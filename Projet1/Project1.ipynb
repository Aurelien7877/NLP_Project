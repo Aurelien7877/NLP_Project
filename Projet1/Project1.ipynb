{
 "cells": [
  {
   "cell_type": "code",
   "execution_count": null,
   "metadata": {},
   "outputs": [],
   "source": [
    "## Bert pour embeddé\n",
    "## on peut si on veut tester un model pré entrainé\n",
    "##  semantic search sinon SentenceBert\n"
   ]
  }
 ],
 "metadata": {
  "language_info": {
   "name": "python"
  }
 },
 "nbformat": 4,
 "nbformat_minor": 2
}
