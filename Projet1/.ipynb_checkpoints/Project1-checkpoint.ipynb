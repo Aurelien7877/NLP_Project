{
 "cells": [
  {
   "cell_type": "code",
   "execution_count": null,
   "metadata": {},
   "outputs": [],
   "source": [
    "## Bert pour embeddé\n",
    "## on peut si on veut tester un model pré entrainé\n",
    "##  semantic search sinon SentenceBert\n"
   ]
  },
  {
   "cell_type": "markdown",
   "metadata": {},
   "source": [
    "# Sommaire : \n",
    "\n",
    "## 1. Presentation of the problem and dataset\n",
    "- 1.1. Objective\n",
    "- 1.2. Presentation of the dataset\n",
    "\n",
    "## 2. BM25\n",
    "- Comments for the code\n",
    "- Comments for the results\n",
    "\n",
    "## 3. IR using pre-trained word2vec\n",
    "- Visualization of the word2vec with tensorflow projector\n",
    "- Your own visualization with your screenshots and comments\n",
    "- Results\n",
    "\n",
    "## 4. IR using your own word2vec\n",
    "- Training of your word2vec\n",
    "- Visualization\n",
    "- Results\n",
    "\n",
    "## 5. SBERT\n",
    "## 6. Supervised approach\n",
    "- Training  process\n",
    "- Comments\n"
   ]
  },
  {
   "cell_type": "markdown",
   "metadata": {},
   "source": [
    "# ------------------------------------"
   ]
  },
  {
   "cell_type": "markdown",
   "metadata": {},
   "source": [
    "## 1. Presentation of the problem and dataset\n",
    "- 1.1. Objective\n",
    "\n",
    "The goal of the project is to develop our own information retrieval system on a specific corpus. In order to do that, we\n",
    "are allowed to use any kind of pre-treatment and manipulate the vocabulary of the documents."
   ]
  },
  {
   "cell_type": "code",
   "execution_count": null,
   "metadata": {},
   "outputs": [],
   "source": []
  }
 ],
 "metadata": {
  "kernelspec": {
   "display_name": "Python 3 (ipykernel)",
   "language": "python",
   "name": "python3"
  },
  "language_info": {
   "codemirror_mode": {
    "name": "ipython",
    "version": 3
   },
   "file_extension": ".py",
   "mimetype": "text/x-python",
   "name": "python",
   "nbconvert_exporter": "python",
   "pygments_lexer": "ipython3",
   "version": "3.8.5"
  }
 },
 "nbformat": 4,
 "nbformat_minor": 2
}
